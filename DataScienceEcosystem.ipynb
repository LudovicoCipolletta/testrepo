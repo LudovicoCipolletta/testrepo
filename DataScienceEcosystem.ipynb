{
 "cells": [
  {
   "cell_type": "markdown",
   "metadata": {},
   "source": [
    "<center>\n",
    "    <img src=\"https://cf-courses-data.s3.us.cloud-object-storage.appdomain.cloud/IBMDeveloperSkillsNetwork-DS0105EN-SkillsNetwork/labs/Module2/images/SN_web_lightmode.png\" width=\"300\" alt=\"cognitiveclass.ai logo\">\n",
    "</center>\n"
   ]
  },
  {
   "cell_type": "markdown",
   "metadata": {},
   "source": [
    "#### Add your code below following the instructions given in the course\n"
   ]
  },
  {
   "cell_type": "code",
   "execution_count": null,
   "metadata": {},
   "outputs": [],
   "source": [
    "# Exercise 1\n",
    "# Give the title DataScienceEcosystem.ipyn to the Notebook"
   ]
  },
  {
   "cell_type": "code",
   "execution_count": 2,
   "metadata": {
    "tags": []
   },
   "outputs": [],
   "source": [
    "# Exercise 2 - Notebook Title\n",
    "# Use the Markdown tag to create a title in the desired format\n",
    "\n",
    "# My first Jupyter Notebook"
   ]
  },
  {
   "cell_type": "code",
   "execution_count": null,
   "metadata": {},
   "outputs": [],
   "source": [
    "# Exercise 3 - Introduction\n",
    "# Use the Markdown tag to create an introduction in the desired format\n",
    "\n",
    "# ## Introduction\n",
    "# This is a notebook presenting fundamental concepts of Data Science, in this module topics such as \n",
    "# introduction to jupyter and introduction to versoning with gitlab and github, initial steps to start \n",
    "# working with a jupyter notebook and explain how to share it on github"
   ]
  },
  {
   "cell_type": "code",
   "execution_count": null,
   "metadata": {},
   "outputs": [],
   "source": [
    "# Exercise 4 - List of Data Science Languages\n",
    "\n",
    "# Here are some of the main languages used in data science:\n",
    "\n",
    "# Python\n",
    "# R\n",
    "# Julia\n",
    "# SQL\n",
    "# Scala\n",
    "# MATLAB\n",
    "# Java\n",
    "# JavaScript"
   ]
  },
  {
   "cell_type": "code",
   "execution_count": null,
   "metadata": {},
   "outputs": [],
   "source": [
    "# Exercise 5 - List of data science libraries\n",
    "\n",
    "# Here are some of the main libraries used in data science:\n",
    "\n",
    "# Pandas\n",
    "# NumPy\n",
    "# Scikit-learn\n",
    "# Matplotlib\n",
    "# TensorFlow\n",
    "# Keras\n",
    "# Seaborn\n",
    "# SciPy"
   ]
  },
  {
   "cell_type": "code",
   "execution_count": 8,
   "metadata": {
    "tags": []
   },
   "outputs": [],
   "source": [
    "# Exercise 6 - Data Science Tools Table\n",
    "# Use the Markdown tag to create a table listing Data Science tools\n",
    "\n",
    "# | Instrument | Description\n",
    "# |-------------------|--------------------------|\n",
    "# | Jupyter Notebook | Development Environment |\n",
    "# | TensorFlow | Deep Learning Framework |\n",
    "# | | Matplotlib | Visualisation library |"
   ]
  },
  {
   "cell_type": "code",
   "execution_count": 10,
   "metadata": {
    "tags": []
   },
   "outputs": [],
   "source": [
    "# Exercise 7 - Introducing arithmetic expressions\n",
    "\n",
    "# In the following exercise, we will explore several common arithmetic expressions\n",
    "# used in programming and mathematics. The expressions\n",
    "# arithmetic expressions are sequences of mathematical operations that produce a result\n",
    "\n",
    "# Addition: 2 + 3\n",
    "# Subtraction: 5 - 2\n",
    "# Multiplication: 4 * 6\n",
    "# Division: 8 / 2\n",
    "# Power: 2 ** 3"
   ]
  },
  {
   "cell_type": "code",
   "execution_count": 11,
   "metadata": {
    "tags": []
   },
   "outputs": [],
   "source": [
    "# Exercise 8 - Multiplication and addition numbers\n",
    "# Use Python code to perform multiplication and addition of numbers\n",
    "# Example:\n",
    "# multiplication = 2 * 3\n",
    "# addition = 2 + 3"
   ]
  },
  {
   "cell_type": "code",
   "execution_count": null,
   "metadata": {},
   "outputs": [],
   "source": [
    "# Exercise 9 - Converting minutes to hours\n",
    "# Use Python code to convert minutes to hours\n",
    "# Example:\n",
    "# minutes = 120\n",
    "# hours = minutes / 60\n",
    "# print(f \"These {minutes} minutes equals {hours} hours\")"
   ]
  },
  {
   "cell_type": "code",
   "execution_count": null,
   "metadata": {},
   "outputs": [],
   "source": [
    "# Exercise 10 - List of objectives\n",
    "# Use the Markdown tag to create a bulleted list of objectives\n",
    "\n",
    "# - Learn the fundamental concepts of Data Science\n",
    "# - Improve programming skills in Python\n",
    "# First approach to github"
   ]
  },
  {
   "cell_type": "code",
   "execution_count": null,
   "metadata": {},
   "outputs": [],
   "source": [
    "# Exercise 11 - Author's name\n",
    "# Author: Ludovico Cipolletta"
   ]
  }
 ],
 "metadata": {
  "kernelspec": {
   "display_name": "Python",
   "language": "python",
   "name": "conda-env-python-py"
  },
  "language_info": {
   "codemirror_mode": {
    "name": "ipython",
    "version": 3
   },
   "file_extension": ".py",
   "mimetype": "text/x-python",
   "name": "python",
   "nbconvert_exporter": "python",
   "pygments_lexer": "ipython3",
   "version": "3.7.12"
  }
 },
 "nbformat": 4,
 "nbformat_minor": 4
}
